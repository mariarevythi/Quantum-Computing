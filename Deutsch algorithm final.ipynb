{
 "cells": [
  {
   "cell_type": "markdown",
   "id": "340aaa96",
   "metadata": {},
   "source": [
    "# Deutsch’s Algorithm"
   ]
  },
  {
   "attachments": {
    "Screenshot_1.png": {
     "image/png": "[encoded data removed]"
    }
   },
   "cell_type": "markdown",
   "id": "ed6cf2b7",
   "metadata": {},
   "source": [
    " <h3>What is Deutsch’s Algorithm?</h3>\n",
    "\n",
    "Deutsch’s Algorithm is the first quantum algorithm, which can determine if a function is constant or balanced using only one query. This contrasts with classical algorithms, which require multiple queries.\n",
    "\n",
    "A constant function is one that always outputs the same value.\n",
    "A balanced function is one that outputs 0 half of the time and 1 half of the time.\n",
    "\n",
    "<h2>Problem Statement</h2>\n",
    "\n",
    "$f: \\{0, 1\\}^n \\to \\{0, 1\\}$\n",
    "\n",
    "![Screenshot_1.png](attachment:Screenshot_1.png)\n",
    "\n",
    "Given a black box function f: {0, 1} → {0, 1}, determine whether f is a constant function or a balanced function. An oracle acts as a black box function\n",
    "\n",
    "Deutsch's algorithm can solve this problem with only one query to the black box function. This is a significant improvement over any classical algorithm, which would require evaluating the function at both 0 and 1 to determine its behavior.\n",
    "\n",
    "<h2>Steps</h2>\n",
    "\n",
    "1. Initialize the two qubits to the state $|0\\rangle|1\\rangle$.\n",
    "2. Apply a Hadamard gate to each qubit.\n",
    "3. Apply the function to the two qubits.\n",
    "4. Apply another Hadamard gate to the first qubit.\n",
    "5. Measure the first qubit."
   ]
  },
  {
   "cell_type": "markdown",
   "id": "fa4cbe8e",
   "metadata": {},
   "source": [
    "# Implementation of Deutsch's Algorithm"
   ]
  },
  {
   "cell_type": "markdown",
   "id": "631b3160",
   "metadata": {},
   "source": [
    "<h3>Set up the Environment</h3>"
   ]
  },
  {
   "cell_type": "code",
   "execution_count": 14,
   "id": "90b1070e",
   "metadata": {},
   "outputs": [],
   "source": [
    "from qiskit import QuantumCircuit, QuantumRegister, ClassicalRegister, Aer, execute\n",
    "from qiskit import QuantumCircuit, Aer, execute\n",
    "from qiskit.visualization import plot_histogram\n",
    "from qiskit.extensions import Initialize\n",
    "from qiskit.circuit import Gate"
   ]
  },
  {
   "cell_type": "markdown",
   "id": "84a9a68f",
   "metadata": {},
   "source": [
    "<h3>Build the Quantum Circuit</h3>"
   ]
  },
  {
   "cell_type": "code",
   "execution_count": 15,
   "id": "8c7578f9",
   "metadata": {},
   "outputs": [],
   "source": [
    "# Define constant function\n",
    "def constant_function():\n",
    "    qc = QuantumCircuit(2) # Since the function is constant, no operation is performed on the qubit.\n",
    "    return qc"
   ]
  },
  {
   "cell_type": "code",
   "execution_count": 16,
   "id": "a4110bdc",
   "metadata": {},
   "outputs": [],
   "source": [
    "# Define define balanced function\n",
    "def balanced_function():\n",
    "    qc = QuantumCircuit(2) # CNOT gate flips the second qubit if the first qubit is |1>\n",
    "    qc.cx(0, 1)\n",
    "    return qc"
   ]
  },
  {
   "cell_type": "markdown",
   "id": "edd04ff7",
   "metadata": {},
   "source": [
    "<h4>Step 1: Initialize the two qubits to the state $|0\\rangle|1\\rangle$.</h4>"
   ]
  },
  {
   "cell_type": "code",
   "execution_count": 17,
   "id": "4bfda6f4",
   "metadata": {},
   "outputs": [
    {
     "name": "stdout",
     "output_type": "stream",
     "text": [
      "Set the first qubit to |0> and the second qubit to |1>\n"
     ]
    },
    {
     "data": {
      "text/plain": [
       "<qiskit.circuit.instructionset.InstructionSet at 0x1bce16ac6d0>"
      ]
     },
     "execution_count": 17,
     "metadata": {},
     "output_type": "execute_result"
    }
   ],
   "source": [
    "qc = QuantumCircuit(2,1)\n",
    "# The first qubit should be in state |0> (which it already is by default).\n",
    "# The second qubit should be in state |1>, which is achieved by applying an X gate.\n",
    "qc.x(1)\n",
    "print(\"Set the first qubit to |0> and the second qubit to |1>\")\n",
    "qc.draw('mpl', style='iqp')  \n",
    "qc.barrier()\n"
   ]
  },
  {
   "cell_type": "markdown",
   "id": "c16f6ffc",
   "metadata": {},
   "source": [
    "<h4>Step 2: Apply a Hadamard gate to each qubit.</h4>"
   ]
  },
  {
   "cell_type": "code",
   "execution_count": 18,
   "id": "03a87807",
   "metadata": {},
   "outputs": [
    {
     "name": "stdout",
     "output_type": "stream",
     "text": [
      "Apply a Hadamard gate to both qubits\n"
     ]
    },
    {
     "data": {
      "text/plain": [
       "<qiskit.circuit.instructionset.InstructionSet at 0x1bcdf919390>"
      ]
     },
     "execution_count": 18,
     "metadata": {},
     "output_type": "execute_result"
    }
   ],
   "source": [
    "# Apply a Hadamard gate to both qubits\n",
    "qc.h(0)\n",
    "qc.h(1)\n",
    "print(\"Apply a Hadamard gate to both qubits\")\n",
    "qc.draw('mpl', style='iqp')  \n",
    "qc.barrier()"
   ]
  },
  {
   "cell_type": "markdown",
   "id": "e2855b1a",
   "metadata": {},
   "source": [
    "<h4>Step 3: Apply the function to the two qubits.</h4>"
   ]
  },
  {
   "cell_type": "code",
   "execution_count": 20,
   "id": "c62029ec",
   "metadata": {},
   "outputs": [
    {
     "name": "stdout",
     "output_type": "stream",
     "text": [
      "Apply the UF function\n"
     ]
    },
    {
     "data": {
      "text/plain": [
       "<qiskit.circuit.instructionset.InstructionSet at 0x1bcdad90550>"
      ]
     },
     "execution_count": 20,
     "metadata": {},
     "output_type": "execute_result"
    }
   ],
   "source": [
    "# Apply the function\n",
    "qc.append(constant_function(), [0, 1])\n",
    "print(\"Apply the UF function\")\n",
    "qc.draw('mpl', style='iqp')  \n",
    "qc.barrier()"
   ]
  },
  {
   "cell_type": "markdown",
   "id": "69d0117b",
   "metadata": {},
   "source": [
    "<h4>Step 4: Apply another Hadamard gate to the first qubit.</h4>"
   ]
  },
  {
   "cell_type": "code",
   "execution_count": 21,
   "id": "1c059ce1",
   "metadata": {},
   "outputs": [
    {
     "name": "stdout",
     "output_type": "stream",
     "text": [
      "Apply another Hadamard gate to the input qubit\n"
     ]
    },
    {
     "data": {
      "text/plain": [
       "<qiskit.circuit.instructionset.InstructionSet at 0x1bce15849a0>"
      ]
     },
     "execution_count": 21,
     "metadata": {},
     "output_type": "execute_result"
    }
   ],
   "source": [
    "# Apply another Hadamard gate to the input qubit\n",
    "qc.h(0)\n",
    "print(\"Apply another Hadamard gate to the input qubit\")\n",
    "qc.draw('mpl', style='iqp') \n",
    "qc.barrier()"
   ]
  },
  {
   "cell_type": "markdown",
   "id": "41c38271",
   "metadata": {},
   "source": [
    "<h4>Step 5: Measure the first qubit.</h4>"
   ]
  },
  {
   "cell_type": "code",
   "execution_count": 22,
   "id": "ab8f62aa",
   "metadata": {},
   "outputs": [
    {
     "data": {
      "text/plain": [
       "<qiskit.circuit.instructionset.InstructionSet at 0x1bce16aceb0>"
      ]
     },
     "execution_count": 22,
     "metadata": {},
     "output_type": "execute_result"
    }
   ],
   "source": [
    "# Measurement\n",
    "qc.measure(0, 0)\n",
    "qc.draw('mpl', style='iqp')\n",
    "qc.barrier()"
   ]
  },
  {
   "cell_type": "markdown",
   "id": "ca4bb805",
   "metadata": {},
   "source": [
    "# The quantum circuit for the Deutsch algorithm"
   ]
  },
  {
   "cell_type": "code",
   "execution_count": 23,
   "id": "4003499d",
   "metadata": {},
   "outputs": [
    {
     "data": {
      "image/png": "[encoded data removed]",
      "text/plain": [
       "<Figure size 1039.79x284.278 with 1 Axes>"
      ]
     },
     "execution_count": 23,
     "metadata": {},
     "output_type": "execute_result"
    }
   ],
   "source": [
    "qc.draw('mpl', style='iqp')"
   ]
  },
  {
   "cell_type": "code",
   "execution_count": 24,
   "id": "c7911460",
   "metadata": {},
   "outputs": [
    {
     "name": "stdout",
     "output_type": "stream",
     "text": [
      "{'0': 1024}\n"
     ]
    }
   ],
   "source": [
    "# Simulate the circuit\n",
    "backend = Aer.get_backend('qasm_simulator')\n",
    "job = execute(qc, backend)\n",
    "result = job.result()\n",
    "\n",
    "# Get the counts of measurement outcomes\n",
    "counts = result.get_counts(qc)\n",
    "print(counts)"
   ]
  },
  {
   "cell_type": "markdown",
   "id": "60f9a1e8",
   "metadata": {},
   "source": [
    "<h4>What Does the Output Mean?</h4>\n",
    "\n",
    "Result 0: If you get 0, it indicates that the function implemented is constant. This means the function gives the same output for all inputs.\n",
    "\n",
    "Result 1: If you get 1, it suggests that the function is balanced. A balanced function outputs 0 for half the inputs and 1 for the other half.\n",
    "\n",
    "The aspect of Deutsch's Algorithm is that it requires only one query to the oracle to determine whether the function is constant or balanced. This is a significant improvement over classical algorithms, which would require two queries (one for each possible input) to determine the nature of the function."
   ]
  },
  {
   "cell_type": "code",
   "execution_count": null,
   "id": "56732249",
   "metadata": {},
   "outputs": [],
   "source": []
  }
 ],
 "metadata": {
  "kernelspec": {
   "display_name": "Python 3 (ipykernel)",
   "language": "python",
   "name": "python3"
  },
  "language_info": {
   "codemirror_mode": {
    "name": "ipython",
    "version": 3
   },
   "file_extension": ".py",
   "mimetype": "text/x-python",
   "name": "python",
   "nbconvert_exporter": "python",
   "pygments_lexer": "ipython3",
   "version": "3.11.5"
  }
 },
 "nbformat": 4,
 "nbformat_minor": 5
}
